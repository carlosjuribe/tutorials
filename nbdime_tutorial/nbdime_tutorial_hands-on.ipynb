{
 "cells": [
  {
   "cell_type": "markdown",
   "metadata": {},
   "source": [
    "# Installing and Using `nbdime`\n",
    "\n",
    "`n`ote`b`ook `di`ff and `me`rge.\n",
    "\n",
    "### Table of Contents:\n",
    "\n",
    "### 0) [Introduction](#intro)\n",
    "\n",
    "#### [Installation](#install)\n",
    "\n",
    "### 1) [Usage without Git](#without_git)\n",
    "\n",
    "#### [Web based diffs: improved visualization](#web_based_diffs)\n",
    "\n",
    "\n",
    "### 2) [Usage with Git](#with_git)\n",
    "\n",
    "#### [Comparing notebooks between different branches](#diff_branches)\n",
    "\n",
    "#### [Comparing individual commits](#compare_commits)\n",
    "\n",
    "#### [Using the `nbdime` Jupyter extension](#jupyter_extension)\n",
    "\n",
    "#### [Merging notebooks](#Merging_notebooks)\n",
    "\n",
    "#### [Resolving conflicts in the web GUI](#resolve_conflicts)\n",
    "\n",
    "### [References](#refs)\n",
    "_____________________"
   ]
  },
  {
   "cell_type": "markdown",
   "metadata": {},
   "source": [
    "<a id='intro'></a>\n",
    "\n",
    "## Introduction\n",
    "\n",
    "In this notebook-tutorial, we will cover **bit by bit, with no gaps at all**, all the necessary steps that you need to follow in order to **practically** and **confidently** use `nbdime` in your daily work.\n",
    "\n",
    "**DISCLAIMER**: The main goal of this notebook is to help you get your job done, and **not to bore you** with unnecessary detail about non-fundamental features. If it looks long, it's because it's also **crystal-clear**, so you come out of the reading with no gaps in your understanding.\n",
    "\n",
    "**Pre-requisites**: None. But probably a basic knowledge of Git will help.\n",
    "\n",
    "And here we start!\n",
    "\n",
    "`nbdime` is a tool that allows you to diff and merge notebooks with the same ease as you do that with scripts. <br>\n",
    "It is *notebook-aware*, which means that it *understands* the structure of the JSON that a notebook actually is behind de scenes, so that the user gets a **meaningful** result when performing diffs, merges, or actions with Git. <br>\n",
    "It also integrates well with Git (though not with GitHub), so that things like `git diff` or `git merge` with notebooks behave as one would expect them to behave.\n",
    "\n",
    "* Pros: Free, notebook-aware diffs and merges, not just JSON diffs, and integrated with Git locally.\n",
    "* Cons: Does not integrate with GitHub, so can't visualize diffs in a pull request"
   ]
  },
  {
   "cell_type": "markdown",
   "metadata": {},
   "source": [
    "<a id='install'></a>\n",
    "\n",
    "### We install the package:"
   ]
  },
  {
   "cell_type": "code",
   "execution_count": 2,
   "metadata": {},
   "outputs": [
    {
     "name": "stdout",
     "output_type": "stream",
     "text": [
      "Collecting nbdime\n",
      "\u001b[?25l  Downloading https://files.pythonhosted.org/packages/4d/b8/9d7d5b6e3b9c6bdaceb1d5a93de4725101421770b8ff1841f992f87dad9a/nbdime-2.0.0-py2.py3-none-any.whl (5.3MB)\n",
      "\u001b[K    100% |████████████████████████████████| 5.3MB 6.9MB/s eta 0:00:01\n",
      "\u001b[?25hRequirement already satisfied: colorama in /home/cjimenez/anaconda3/lib/python3.7/site-packages (from nbdime) (0.4.1)\n",
      "Requirement already satisfied: notebook in /home/cjimenez/anaconda3/lib/python3.7/site-packages (from nbdime) (5.7.8)\n",
      "Requirement already satisfied: jinja2>=2.9 in /home/cjimenez/anaconda3/lib/python3.7/site-packages (from nbdime) (2.10)\n",
      "Requirement already satisfied: pygments in /home/cjimenez/anaconda3/lib/python3.7/site-packages (from nbdime) (2.3.1)\n",
      "Requirement already satisfied: tornado in /home/cjimenez/anaconda3/lib/python3.7/site-packages (from nbdime) (6.0.2)\n",
      "Requirement already satisfied: nbformat in /home/cjimenez/anaconda3/lib/python3.7/site-packages (from nbdime) (4.4.0)\n",
      "Collecting GitPython!=2.1.4,!=2.1.5,!=2.1.6 (from nbdime)\n",
      "\u001b[?25l  Downloading https://files.pythonhosted.org/packages/44/33/917e6fde1cad13daa7053f39b7c8af3be287314f75f1b1ea8d3fe37a8571/GitPython-3.1.2-py3-none-any.whl (451kB)\n",
      "\u001b[K    100% |████████████████████████████████| 460kB 9.9MB/s eta 0:00:01\n",
      "\u001b[?25hRequirement already satisfied: requests in /home/cjimenez/anaconda3/lib/python3.7/site-packages (from nbdime) (2.21.0)\n",
      "Requirement already satisfied: six in /home/cjimenez/.local/lib/python3.7/site-packages (from nbdime) (1.12.0)\n",
      "Requirement already satisfied: nbconvert in /home/cjimenez/anaconda3/lib/python3.7/site-packages (from notebook->nbdime) (5.4.1)\n",
      "Requirement already satisfied: jupyter-client>=5.2.0 in /home/cjimenez/anaconda3/lib/python3.7/site-packages (from notebook->nbdime) (5.2.4)\n",
      "Requirement already satisfied: traitlets>=4.2.1 in /home/cjimenez/anaconda3/lib/python3.7/site-packages (from notebook->nbdime) (4.3.2)\n",
      "Requirement already satisfied: Send2Trash in /home/cjimenez/anaconda3/lib/python3.7/site-packages (from notebook->nbdime) (1.5.0)\n",
      "Requirement already satisfied: terminado>=0.8.1 in /home/cjimenez/anaconda3/lib/python3.7/site-packages (from notebook->nbdime) (0.8.1)\n",
      "Requirement already satisfied: prometheus-client in /home/cjimenez/anaconda3/lib/python3.7/site-packages (from notebook->nbdime) (0.6.0)\n",
      "Requirement already satisfied: ipykernel in /home/cjimenez/anaconda3/lib/python3.7/site-packages (from notebook->nbdime) (5.1.0)\n",
      "Requirement already satisfied: jupyter-core>=4.4.0 in /home/cjimenez/anaconda3/lib/python3.7/site-packages (from notebook->nbdime) (4.4.0)\n",
      "Requirement already satisfied: pyzmq>=17 in /home/cjimenez/anaconda3/lib/python3.7/site-packages (from notebook->nbdime) (18.0.0)\n",
      "Requirement already satisfied: ipython-genutils in /home/cjimenez/anaconda3/lib/python3.7/site-packages (from notebook->nbdime) (0.2.0)\n",
      "Requirement already satisfied: MarkupSafe>=0.23 in /home/cjimenez/anaconda3/lib/python3.7/site-packages (from jinja2>=2.9->nbdime) (1.1.1)\n",
      "Requirement already satisfied: jsonschema!=2.5.0,>=2.4 in /home/cjimenez/anaconda3/lib/python3.7/site-packages (from nbformat->nbdime) (3.0.1)\n",
      "Collecting gitdb<5,>=4.0.1 (from GitPython!=2.1.4,!=2.1.5,!=2.1.6->nbdime)\n",
      "\u001b[?25l  Downloading https://files.pythonhosted.org/packages/48/11/d1800bca0a3bae820b84b7d813ad1eff15a48a64caea9c823fc8c1b119e8/gitdb-4.0.5-py3-none-any.whl (63kB)\n",
      "\u001b[K    100% |████████████████████████████████| 71kB 30.4MB/s ta 0:00:01\n",
      "\u001b[?25hRequirement already satisfied: certifi>=2017.4.17 in /home/cjimenez/anaconda3/lib/python3.7/site-packages (from requests->nbdime) (2019.11.28)\n",
      "Requirement already satisfied: urllib3<1.25,>=1.21.1 in /home/cjimenez/anaconda3/lib/python3.7/site-packages (from requests->nbdime) (1.24.1)\n",
      "Requirement already satisfied: idna<2.9,>=2.5 in /home/cjimenez/anaconda3/lib/python3.7/site-packages (from requests->nbdime) (2.8)\n",
      "Requirement already satisfied: chardet<3.1.0,>=3.0.2 in /home/cjimenez/anaconda3/lib/python3.7/site-packages (from requests->nbdime) (3.0.4)\n",
      "Requirement already satisfied: mistune>=0.8.1 in /home/cjimenez/anaconda3/lib/python3.7/site-packages (from nbconvert->notebook->nbdime) (0.8.4)\n",
      "Requirement already satisfied: entrypoints>=0.2.2 in /home/cjimenez/anaconda3/lib/python3.7/site-packages (from nbconvert->notebook->nbdime) (0.3)\n",
      "Requirement already satisfied: bleach in /home/cjimenez/anaconda3/lib/python3.7/site-packages (from nbconvert->notebook->nbdime) (3.1.0)\n",
      "Requirement already satisfied: pandocfilters>=1.4.1 in /home/cjimenez/anaconda3/lib/python3.7/site-packages (from nbconvert->notebook->nbdime) (1.4.2)\n",
      "Requirement already satisfied: testpath in /home/cjimenez/anaconda3/lib/python3.7/site-packages (from nbconvert->notebook->nbdime) (0.4.2)\n",
      "Requirement already satisfied: defusedxml in /home/cjimenez/anaconda3/lib/python3.7/site-packages (from nbconvert->notebook->nbdime) (0.5.0)\n",
      "Requirement already satisfied: python-dateutil>=2.1 in /home/cjimenez/.local/lib/python3.7/site-packages (from jupyter-client>=5.2.0->notebook->nbdime) (2.8.0)\n",
      "Requirement already satisfied: decorator in /home/cjimenez/anaconda3/lib/python3.7/site-packages (from traitlets>=4.2.1->notebook->nbdime) (4.4.0)\n",
      "Requirement already satisfied: ipython>=5.0.0 in /home/cjimenez/anaconda3/lib/python3.7/site-packages (from ipykernel->notebook->nbdime) (7.4.0)\n",
      "Requirement already satisfied: attrs>=17.4.0 in /home/cjimenez/anaconda3/lib/python3.7/site-packages (from jsonschema!=2.5.0,>=2.4->nbformat->nbdime) (19.1.0)\n",
      "Requirement already satisfied: pyrsistent>=0.14.0 in /home/cjimenez/.local/lib/python3.7/site-packages (from jsonschema!=2.5.0,>=2.4->nbformat->nbdime) (0.15.3)\n",
      "Requirement already satisfied: setuptools in /home/cjimenez/anaconda3/lib/python3.7/site-packages (from jsonschema!=2.5.0,>=2.4->nbformat->nbdime) (40.8.0)\n",
      "Collecting smmap<4,>=3.0.1 (from gitdb<5,>=4.0.1->GitPython!=2.1.4,!=2.1.5,!=2.1.6->nbdime)\n",
      "  Downloading https://files.pythonhosted.org/packages/b0/9a/4d409a6234eb940e6a78dfdfc66156e7522262f5f2fecca07dc55915952d/smmap-3.0.4-py2.py3-none-any.whl\n",
      "Requirement already satisfied: webencodings in /home/cjimenez/anaconda3/lib/python3.7/site-packages (from bleach->nbconvert->notebook->nbdime) (0.5.1)\n",
      "Requirement already satisfied: prompt-toolkit<2.1.0,>=2.0.0 in /home/cjimenez/anaconda3/lib/python3.7/site-packages (from ipython>=5.0.0->ipykernel->notebook->nbdime) (2.0.9)\n",
      "Requirement already satisfied: backcall in /home/cjimenez/anaconda3/lib/python3.7/site-packages (from ipython>=5.0.0->ipykernel->notebook->nbdime) (0.1.0)\n",
      "Requirement already satisfied: pickleshare in /home/cjimenez/anaconda3/lib/python3.7/site-packages (from ipython>=5.0.0->ipykernel->notebook->nbdime) (0.7.5)\n",
      "Requirement already satisfied: pexpect; sys_platform != \"win32\" in /home/cjimenez/anaconda3/lib/python3.7/site-packages (from ipython>=5.0.0->ipykernel->notebook->nbdime) (4.6.0)\n",
      "Requirement already satisfied: jedi>=0.10 in /home/cjimenez/anaconda3/lib/python3.7/site-packages (from ipython>=5.0.0->ipykernel->notebook->nbdime) (0.13.3)\n",
      "Requirement already satisfied: wcwidth in /home/cjimenez/anaconda3/lib/python3.7/site-packages (from prompt-toolkit<2.1.0,>=2.0.0->ipython>=5.0.0->ipykernel->notebook->nbdime) (0.1.7)\n",
      "Requirement already satisfied: ptyprocess>=0.5 in /home/cjimenez/anaconda3/lib/python3.7/site-packages (from pexpect; sys_platform != \"win32\"->ipython>=5.0.0->ipykernel->notebook->nbdime) (0.6.0)\n",
      "Requirement already satisfied: parso>=0.3.0 in /home/cjimenez/anaconda3/lib/python3.7/site-packages (from jedi>=0.10->ipython>=5.0.0->ipykernel->notebook->nbdime) (0.3.4)\n",
      "Installing collected packages: smmap, gitdb, GitPython, nbdime\n",
      "Successfully installed GitPython-3.1.2 gitdb-4.0.5 nbdime-2.0.0 smmap-3.0.4\n"
     ]
    }
   ],
   "source": [
    "! pip install nbdime"
   ]
  },
  {
   "cell_type": "code",
   "execution_count": 8,
   "metadata": {},
   "outputs": [
    {
     "name": "stdout",
     "output_type": "stream",
     "text": [
      "-rw-r--r-- 1 cjimenez cjimenez  10142 may  5 09:27 20200505_CJU_nbdime-installation-usage.ipynb\r\n",
      "-rw-r--r-- 1 cjimenez cjimenez  10097 may  5 09:30 build_sample_datasets_from_shows-Copy1.ipynb\r\n",
      "-rw-rw-r-- 1 cjimenez cjimenez   9920 may  2 22:09 build_sample_datasets_from_shows.ipynb\r\n",
      "-rw-r--r-- 1 cjimenez cjimenez 352103 may  2 13:38 ip_forecast_process-high-volume.ipynb\r\n",
      "-rw-rw-r-- 1 cjimenez cjimenez 141796 may  2 13:15 ip_forecast_tests.ipynb\r\n"
     ]
    }
   ],
   "source": [
    "! ls -l *.ipynb"
   ]
  },
  {
   "cell_type": "markdown",
   "metadata": {},
   "source": [
    "<a id='without_git'></a>\n",
    "\n",
    "## Usage without Git"
   ]
  },
  {
   "cell_type": "markdown",
   "metadata": {},
   "source": [
    "We can show the diffs between 2 notebooks in the terminal by doing:\n",
    "\n",
    "```bash\n",
    "nbdiff NB1.ipynb NB2.ipynb\n",
    "```"
   ]
  },
  {
   "cell_type": "code",
   "execution_count": 9,
   "metadata": {},
   "outputs": [
    {
     "name": "stdout",
     "output_type": "stream",
     "text": [
      "nbdiff build_sample_datasets_from_shows.ipynb build_sample_datasets_from_shows-Copy1.ipynb\r\n",
      "--- build_sample_datasets_from_shows.ipynb  2020-05-02 22:09:44.354824\r\n",
      "+++ build_sample_datasets_from_shows-Copy1.ipynb  2020-05-05 09:30:04.547899\r\n",
      "\u001b[34m## inserted before /cells/2:\u001b[0m\r\n",
      "\u001b[32m+  markdown cell:\r\n",
      "\u001b[32m+    source:\r\n",
      "\u001b[32m+      New markdown cell <br>\r\n",
      "\u001b[32m+      20200505_CJU_nbdime-installation-usage\r\n",
      "\r\n",
      "\u001b[0m\u001b[34m## replaced /cells/3/execution_count:\u001b[0m\r\n",
      "\u001b[31m-  6\r\n",
      "\u001b[32m+  1\r\n",
      "\r\n",
      "\u001b[0m\u001b[34m## modified /cells/3/source:\u001b[0m\r\n",
      "\u001b[31m-  from pyspark.sql import functions as F, types as T\r\n",
      "\u001b[32m+  from pyspark.sql import functions as F, types as T, DataFrame, Window, Row\r\n",
      "\r\n",
      "\u001b[0m\u001b[34m## modified /cells/4/source:\u001b[0m\r\n",
      "\u001b[36m@@ -1,6 +1,6 @@\u001b[m\r\n",
      " # sales_user.sales_aggregated_supply\u001b[m\r\n",
      " \u001b[m\r\n",
      "\u001b[31m-schema = \"werks,matnr,id_promo,id_mechanics,start_date_promo,end_date_promo,matnr_similar,werks_similar,id_similar_promo,id_similar_mechanics,start_date_similar_promo,end_date_similar_promo\"\u001b[m\r\n",
      "\u001b[32m+\u001b[m\u001b[32mschema = \"werks,matrn,id_promo,id_mechanics,start_date_promo,end_date_promo,matnr_similar,werks_similar,id_similar_promo,id_similar_mechanics,start_date_similar_promo,end_date_similar_promo\"\u001b[m\r\n",
      " \u001b[m\r\n",
      " data = [\u001b[m\r\n",
      " \"werks,matnr,id_promo,id_mechanics,2020-05-01 00:00:00,2020-05-06 23:59:59.999,matnr,werks,id_similar_promo,id_mechanics,2020-04-01 00:00:00,2020-04-03 23:59:59.999\"\u001b[m\r\n",
      "\r\n",
      "\u001b[0m"
     ]
    }
   ],
   "source": [
    "! nbdiff build_sample_datasets_from_shows.ipynb build_sample_datasets_from_shows-Copy1.ipynb"
   ]
  },
  {
   "cell_type": "markdown",
   "metadata": {},
   "source": [
    "<a id='web_based_diffs'></a>\n",
    "\n",
    "### Web based diffs: improved visualization\n",
    "\n",
    "However, if we want more detailed diffs, like precise highlighting of the parts that actually have changed, we can use `nbdiff-web` instead of just `nbdiff` and see a more natural side-by-side diff with color highlighting:\n",
    "```bash\n",
    "nbdiff-web NB1.ipynb NB2.ipynb\n",
    "```"
   ]
  },
  {
   "cell_type": "code",
   "execution_count": 13,
   "metadata": {
    "scrolled": true
   },
   "outputs": [],
   "source": [
    "! nbdiff-web build_sample_datasets_from_shows.ipynb build_sample_datasets_from_shows-Copy1.ipynb\n",
    "\n",
    "# When you are done reviewing you have to stop the kernel (in notebook) or do \"Ctrl+C\" in terminal."
   ]
  },
  {
   "attachments": {
    "image.png": {
     "image/png": "[encoded data removed]"
    }
   },
   "cell_type": "markdown",
   "metadata": {},
   "source": [
    "You will see a new tab in your web-browser showing something like this:\n",
    "\n",
    "![image.png](attachment:image.png)"
   ]
  },
  {
   "cell_type": "markdown",
   "metadata": {},
   "source": [
    "-----------\n",
    "<a id='with_git'></a>\n",
    "\n",
    "## Usage with Git\n",
    "\n",
    "Next, assuming you want to use Git with Notebooks, you have to allow `nbdime` to handle notebooks in liu of Git itself, which does not do a very good job with notebooks by default.\n",
    "\n",
    "```bash\n",
    "nbdime config-git --enable --global\n",
    "```\n",
    "From this point, `nbdime` will deal with notebooks when Git is invoked.\n",
    "\n",
    "First we see that a notebook has been modified:"
   ]
  },
  {
   "cell_type": "code",
   "execution_count": 18,
   "metadata": {},
   "outputs": [
    {
     "name": "stdout",
     "output_type": "stream",
     "text": [
      "On branch master\r\n",
      "Changes not staged for commit:\r\n",
      "  (use \"git add <file>...\" to update what will be committed)\r\n",
      "  (use \"git checkout -- <file>...\" to discard changes in working directory)\r\n",
      "\r\n",
      "\t\u001b[31mmodified:   build_sample_datasets_from_shows-Copy1.ipynb\u001b[m\r\n",
      "\r\n",
      "Untracked files:\r\n",
      "  (use \"git add <file>...\" to include in what will be committed)\r\n",
      "\r\n",
      "\t\u001b[31m20200505_CJU_nbdime-installation-usage.ipynb\u001b[m\r\n",
      "\r\n",
      "no changes added to commit (use \"git add\" and/or \"git commit -a\")\r\n"
     ]
    }
   ],
   "source": [
    "! git status"
   ]
  },
  {
   "cell_type": "markdown",
   "metadata": {},
   "source": [
    "Git will let `nbdime` display the diffs its way, and when you do `git diff` or `git merge` with notebooks, you should see a nice diff view, like this:"
   ]
  },
  {
   "cell_type": "code",
   "execution_count": 20,
   "metadata": {},
   "outputs": [
    {
     "name": "stdout",
     "output_type": "stream",
     "text": [
      "nbdiff /tmp/IP2K5v_build_sample_datasets_from_shows-Copy1.ipynb build_sample_datasets_from_shows-Copy1.ipynb\r\n",
      "--- /tmp/IP2K5v_build_sample_datasets_from_shows-Copy1.ipynb  2020-05-05 10:09:44.320960\r\n",
      "+++ build_sample_datasets_from_shows-Copy1.ipynb  2020-05-05 10:09:01.244731\r\n",
      "\u001b[34m## replaced /cells/4/execution_count:\u001b[0m\r\n",
      "\u001b[31m-  1\r\n",
      "\u001b[32m+  3\r\n",
      "\r\n",
      "\u001b[0m\u001b[34m## modified /cells/4/source:\u001b[0m\r\n",
      "\u001b[31m-  from pyspark.sql import functions as F, types as T, DataFrame, Row\r\n",
      "\u001b[32m+  from pyspark.sql import functions as F, types as T, DataFrame, Row, Window\r\n",
      "\r\n",
      "\u001b[0m\u001b[34m## modified /cells/6/source:\u001b[0m\r\n",
      "\u001b[36m@@ -3,7 +3,7 @@\u001b[m\r\n",
      " schema = \"werks,matrn,id_promo,id_mechanics,start_date_promo,end_date_promo,matnr_similar,werks_similar,id_similar_promo,id_similar_mechanics,start_date_similar_promo,end_date_similar_promo\"\u001b[m\r\n",
      " \u001b[m\r\n",
      " data = [\u001b[m\r\n",
      "\u001b[31m-\"werks,matnr,id_promo,id_mechanics,2020-05-01 00:00:00,2020-05-06 23:59:59.999,matnr,werks,id_similar_promo,id_mechanics,2020-04-01 00:00:00,2020-04-03 23:59:59.999\"\u001b[m\r\n",
      "\u001b[32m+\u001b[m\u001b[32m\"werks,matnr,id_promo,id_mechanics,2020-05-01 00:00:00,2020-05-14 23:59:59.999,matnr,werks,id_similar_promo,id_mechanics,2020-04-01 00:00:00,2020-04-03 23:59:59.999\"\u001b[m\r\n",
      " ]\u001b[m\r\n",
      " \u001b[m\r\n",
      " schema2 = schema.split(\",\")\u001b[m\r\n",
      "\r\n",
      "\u001b[0m\u001b[34m## modified /cells/11/source:\u001b[0m\r\n",
      "\u001b[36m@@ -1,5 +1,5 @@\u001b[m\r\n",
      " # schema for supply_user.supply_similar_promos\u001b[m\r\n",
      "\u001b[31m-custom_schema = [('werks', T.StringType()),\u001b[m\r\n",
      "\u001b[32m+\u001b[m\u001b[32mcustom_schema = [('werks', T.IntegerType()),\u001b[m\r\n",
      "                  ('matnr', T.StringType()),\u001b[m\r\n",
      "                  ('id_promo', T.StringType()),\u001b[m\r\n",
      "                  ('id_mechanics', T.StringType()),\u001b[m\r\n",
      "\r\n",
      "\u001b[0m"
     ]
    }
   ],
   "source": [
    "! git diff"
   ]
  },
  {
   "cell_type": "markdown",
   "metadata": {},
   "source": [
    "Sometimes it may be hard to spot the exact change, like what changes inside `data = [..]` exactly, but that's a huge improvement over how Git used to display changes in NBs."
   ]
  },
  {
   "cell_type": "markdown",
   "metadata": {},
   "source": [
    "<a id='diff_branches'></a>\n",
    "\n",
    "### Comparing notebooks between different branches\n",
    "\n",
    "#### View in terminal\n",
    "\n",
    "If you want to compare how a notebook named `notebook.ipynb` differs from one branch, `master`, to another, `feature_1`, you can do:\n",
    "```bash\n",
    "git diff master..feature_1 -- notebook.ipynb\n",
    "```\n",
    "In the example shown below we have, in branch `master`, the line:\n",
    "```python\n",
    "from pyspark.sql import functions as F, types as T\n",
    "```\n",
    "and in branch `feature_1` the line:\n",
    "```python\n",
    "from pyspark.sql import functions fun, types as typ\n",
    "```\n",
    "so that when we do the `git diff` between the two branches we get:"
   ]
  },
  {
   "cell_type": "code",
   "execution_count": 21,
   "metadata": {},
   "outputs": [
    {
     "name": "stdout",
     "output_type": "stream",
     "text": [
      "nbdiff /tmp/3Rrx8s_build_sample_datasets_from_shows-Copy2.ipynb /tmp/BnT79s_build_sample_datasets_from_shows-Copy2.ipynb\r\n",
      "--- /tmp/3Rrx8s_build_sample_datasets_from_shows-Copy2.ipynb  2020-05-05 13:11:24.280338\r\n",
      "+++ /tmp/BnT79s_build_sample_datasets_from_shows-Copy2.ipynb  2020-05-05 13:11:24.280338\r\n",
      "\u001b[34m## modified /cells/3/source:\u001b[0m\r\n",
      "\u001b[31m-  from pyspark.sql import functions as F, types as T\r\n",
      "\u001b[32m+  from pyspark.sql import functions as fun, types as typ\r\n",
      "\r\n",
      "\u001b[0m"
     ]
    }
   ],
   "source": [
    "! git diff master..feature_1 -- build_sample_datasets_from_shows-Copy2.ipynb"
   ]
  },
  {
   "cell_type": "markdown",
   "metadata": {},
   "source": [
    "This gives us a display similar to the usual one obtained when diff-ing scripts.\n",
    "\n",
    "#### View on web browser\n",
    "\n",
    "However, if the changes are numerous, or harder to see, or we just want a more visual display, we can use `nbdiff-web` like this:\n",
    "```bash\n",
    "nbdiff-web master feature_1 notebook.ipynb\n",
    "```\n",
    "Or, in our case:\n",
    "```bash\n",
    "nbdiff-web master feature_1 build_sample_datasets_from_shows-Copy2.ipynb\n",
    "```\n",
    "\n",
    "Which will create a new tab in your web browser with something like this (`master` to the left, `feature_1` to the right):\n",
    "\n",
    "<img src=\"images_nbdime/F-fun_T-typ.png\">"
   ]
  },
  {
   "attachments": {},
   "cell_type": "markdown",
   "metadata": {},
   "source": [
    "<br>\n",
    "\n",
    "Also note that if the **output** of the cells changed, it would be displayed too (even if the code didn't), like we can see here: <br>\n",
    "\n",
    "<img src=\"images_nbdime/diff_outputs_too.png\">\n",
    "\n",
    "which means that we can not only observe changes in code *per se*, but in the results of this code. Note that in the image above, in cell 6, the code did not change at all, so this would not be seen if `nbdime` were only tracking code."
   ]
  },
  {
   "cell_type": "markdown",
   "metadata": {},
   "source": [
    "<a id='compare_commits'></a>\n",
    "\n",
    "### Comparing individual commits\n",
    "\n",
    "`nbdime` also allows you to compare two individual commits by doing the diff on their commit logs, but this is a bit more troublesome since you need to know the specific commit's **logs**.\n",
    "\n",
    "The general command to do that is:\n",
    "```bash\n",
    "nbdiff-web [<commit> [<commit>]] [<path>]\n",
    "```\n",
    "In order to know those commit logs, run:\n",
    "```bash\n",
    "git log\n",
    "```"
   ]
  },
  {
   "attachments": {},
   "cell_type": "markdown",
   "metadata": {},
   "source": [
    "which would give:\n",
    "\n",
    "<img src=\"images_nbdime/first_log_output.png\">\n",
    "\n",
    "From which we can extract:\n",
    "* the latest commit, `9864eccc291efb1852544ad3f23721023c94a334`, in which we added the current time\n",
    "* the second latest commit, `93e2096f9060c967ebc8965edde2f9ebdf08d847`, which did not have that time cell part"
   ]
  },
  {
   "attachments": {},
   "cell_type": "markdown",
   "metadata": {},
   "source": [
    "And thus, by doing `nbdiff-web <'WIP' commit log> <'add current time' commit log>`, this is,\n",
    "```bash\n",
    "nbdiff-web  93e2096f9060c967ebc8965edde2f9ebdf08d847 9864eccc291efb1852544ad3f23721023c94a334\n",
    "```\n",
    "we get, in a new tab,\n",
    "\n",
    "<img src=\"images_nbdime/webdiff_add_currentdate.png\">\n",
    "\n",
    "This procedure, although somewhat troublesome, could help visualize the diffs between, say, `my_notebook.ipynb` in a feature branch **feat_1** that is pending to be merged with master, and `my_notebook.ipynb` as is in **master**.\n",
    "\n",
    "The suggested steps for the reviewer of a PR containing diffs with notebooks would be to:\n",
    "- pull both branches\n",
    "- do the diff\n",
    "- try to glimpse any errors or potential conflicts (that the user that opened the PR could've missed)\n",
    "- if all is OK, then accept the PR\n",
    "- if not all is OK, use GitHub to comment on the things that the reviewer has seen locally using `nbdime`"
   ]
  },
  {
   "attachments": {},
   "cell_type": "markdown",
   "metadata": {},
   "source": [
    "<a id='jupyter_extension'></a>\n",
    "\n",
    "### Using the `nbdime` Jupyter extension\n",
    "\n",
    "Now that we've covered the basics, it seems like there should be a more *agile* way to use `nbdime`, right? <br>\n",
    "Well this is where **the Jupyter extension** comes to the rescue!\n",
    "\n",
    "Instead of having to *manually* go to the terminal and run *commands* every time we want to see the difference between the **saved** version of the notebook and the latest commit (`HEAD`), we can just click in the button named **`git`**`nbdiff` that should have appeared in the toggle bar when you run `pip install (--upgrade) nbdime`\n",
    "\n",
    "This button looks like this\n",
    "\n",
    "<img src=\"images_nbdime/git_nbdiff_button.png\">\n",
    "\n",
    "If for some reason it does not appear, try shutting down the notebook and re-starting it again, or just close Jupyter notebook altogether and launch it again. It should appear now, since the `pip install nbdime` command you run at the beginning automatically installs and enables this (and other) extensions.\n",
    "\n",
    "If, after trying this, the **`git`**`nbdiff` button still does not appear, then you will have to enable the extension manually by running:\n",
    "```bash\n",
    "nbdime extensions --enable --sys-prefix\n",
    "```\n",
    "and, after re-starting Jupyter again, it should definitely appear. If it doesn't, well, I hope you like the terminal ;)\n",
    "\n",
    "The beauty of this button is that it allows you to *check the status of your most recent work in the current notebook, as compared to the latest commit in the branch you're in*, without having to do `git diff` in the terminal every time.\n",
    "\n",
    "Let's see an example:"
   ]
  },
  {
   "cell_type": "code",
   "execution_count": 5,
   "metadata": {},
   "outputs": [
    {
     "name": "stdout",
     "output_type": "stream",
     "text": [
      "On branch master\r\n",
      "Untracked files:\r\n",
      "  (use \"git add <file>...\" to include in what will be committed)\r\n",
      "\r\n",
      "\t\u001b[31m20200505_CJU_nbdime-installation-usage.ipynb\u001b[m\r\n",
      "\r\n",
      "nothing added to commit but untracked files present (use \"git add\" to track)\r\n"
     ]
    }
   ],
   "source": [
    "! git status"
   ]
  },
  {
   "cell_type": "markdown",
   "metadata": {},
   "source": [
    "Ok, so now we're in branch `master`, and there are no uncommited changes in the working directory (there's only one untracked file, but we can forget about it, it is just the notebook where I am writing this tutorial). <br>\n",
    "\n",
    "If you recall, the last thing we commited was the addition of a cell that printed out the current time. <br>\n",
    "But you don't have to remember, we can see it here:"
   ]
  },
  {
   "cell_type": "code",
   "execution_count": 12,
   "metadata": {},
   "outputs": [
    {
     "name": "stdout",
     "output_type": "stream",
     "text": [
      "commit 9864eccc291efb1852544ad3f23721023c94a334\r\n",
      "Author: Carlos <cjimenez@stratio.com>\r\n",
      "Date:   Tue May 5 13:38:00 2020 +0200\r\n",
      "\r\n",
      "    add current time\r\n",
      "\r\n",
      "commit 93e2096f9060c967ebc8965edde2f9ebdf08d847\r\n",
      "Author: Carlos <cjimenez@stratio.com>\r\n",
      "Date:   Tue May 5 11:37:10 2020 +0200\r\n",
      "\r\n",
      "    WIP\r\n",
      "\r\n"
     ]
    }
   ],
   "source": [
    "! git log | head -12"
   ]
  },
  {
   "cell_type": "markdown",
   "metadata": {},
   "source": [
    "¿What did the **last commit** do? (*aka* what's the diff between the second-to-last and the last commit?"
   ]
  },
  {
   "cell_type": "code",
   "execution_count": 15,
   "metadata": {},
   "outputs": [
    {
     "name": "stdout",
     "output_type": "stream",
     "text": [
      "nbdiff /tmp/UDwm24_build_sample_datasets_from_shows-Copy2.ipynb /tmp/EHKU14_build_sample_datasets_from_shows-Copy2.ipynb\r\n",
      "--- /tmp/UDwm24_build_sample_datasets_from_shows-Copy2.ipynb  2020-05-05 18:28:32.816479\r\n",
      "+++ /tmp/EHKU14_build_sample_datasets_from_shows-Copy2.ipynb  2020-05-05 18:28:32.816479\r\n",
      "\u001b[34m## inserted before /cells/4:\u001b[0m\r\n",
      "\u001b[32m+  code cell:\r\n",
      "\u001b[32m+    execution_count: 6\r\n",
      "\u001b[32m+    source:\r\n",
      "\u001b[32m+      import datetime as dt\r\n",
      "\u001b[32m+      \r\n",
      "\u001b[32m+      now = dt.datetime.now()\r\n",
      "\u001b[32m+      print(now)\r\n",
      "\u001b[32m+    outputs:\r\n",
      "\u001b[32m+      output 0:\r\n",
      "\u001b[32m+        output_type: stream\r\n",
      "\u001b[32m+        name: stdout\r\n",
      "\u001b[32m+        text:\r\n",
      "\u001b[32m+          2020-05-05 13:36:30.232630\r\n",
      "\r\n",
      "\u001b[0m"
     ]
    }
   ],
   "source": [
    "! git diff 93e2096 9864 build_sample_datasets_from_shows-Copy2.ipynb"
   ]
  },
  {
   "cell_type": "markdown",
   "metadata": {},
   "source": [
    "And there it is, it's the addition of a cell with this code:\n",
    "```python\n",
    "import datetime as dt\n",
    "\n",
    "now = dt.datetime.now()\n",
    "print(now)\n",
    "```\n",
    "*This is the state at which **`HEAD`** is pointing*. <br>\n",
    "\n",
    "If we now add, in this same cell, some code that would produce a *changing ouput*:\n",
    "\n",
    "```python\n",
    "import numpy as np\n",
    "import matplotlib.pyplot as plt\n",
    "\n",
    "minuto = now.minute\n",
    "x = np.arange(100)\n",
    "y = minuto * x\n",
    "plt.plot(x, y)\n",
    "plt.title(f\"Slope of {minuto}\");\n",
    "```\n",
    "and save the notebook, we have some changes that we can visualize either with `git diff` (not very pleasurable)..."
   ]
  },
  {
   "cell_type": "code",
   "execution_count": 17,
   "metadata": {},
   "outputs": [
    {
     "name": "stdout",
     "output_type": "stream",
     "text": [
      "nbdiff /tmp/VwKxlj_build_sample_datasets_from_shows-Copy2.ipynb build_sample_datasets_from_shows-Copy2.ipynb\r\n",
      "--- /tmp/VwKxlj_build_sample_datasets_from_shows-Copy2.ipynb  2020-05-05 18:38:48.102758\r\n",
      "+++ build_sample_datasets_from_shows-Copy2.ipynb  2020-05-05 18:37:29.926439\r\n",
      "\u001b[34m## inserted before /cells/4:\u001b[0m\r\n",
      "\u001b[32m+  code cell:\r\n",
      "\u001b[32m+    execution_count: 13\r\n",
      "\u001b[32m+    source:\r\n",
      "\u001b[32m+      import datetime as dt\r\n",
      "\u001b[32m+      \r\n",
      "\u001b[32m+      now = dt.datetime.now()\r\n",
      "\u001b[32m+      print(now)\r\n",
      "\u001b[32m+      \r\n",
      "\u001b[32m+      import numpy as np\r\n",
      "\u001b[32m+      import matplotlib.pyplot as plt\r\n",
      "\u001b[32m+      \r\n",
      "\u001b[32m+      minuto = now.minute\r\n",
      "\u001b[32m+      x = np.arange(100)\r\n",
      "\u001b[32m+      y = minuto * x\r\n",
      "\u001b[32m+      plt.plot(x, y)\r\n",
      "\u001b[32m+      plt.title(f\"Slope of {minuto}\");\r\n",
      "\u001b[32m+    outputs:\r\n",
      "\u001b[32m+      output 0:\r\n",
      "\u001b[32m+        output_type: stream\r\n",
      "\u001b[32m+        name: stdout\r\n",
      "\u001b[32m+        text:\r\n",
      "\u001b[32m+          2020-05-05 18:37:22.862525\r\n",
      "\u001b[32m+      output 1:\r\n",
      "\u001b[32m+        output_type: display_data\r\n",
      "\u001b[32m+        data:\r\n",
      "\u001b[32m+          image/png: iVBORw0K...<snip base64, md5=54a542de17dccc0e...>\r\n",
      "\u001b[32m+          text/plain: <Figure size 432x288 with 1 Axes>\r\n",
      "\u001b[32m+        metadata (unknown keys):\r\n",
      "\u001b[32m+          needs_background: light\r\n",
      "\r\n",
      "\u001b[0m\u001b[34m## deleted /cells/4:\u001b[0m\r\n",
      "\u001b[31m-  code cell:\r\n",
      "\u001b[31m-    execution_count: 6\r\n",
      "\u001b[31m-    source:\r\n",
      "\u001b[31m-      import datetime as dt\r\n",
      "\u001b[31m-      \r\n",
      "\u001b[31m-      now = dt.datetime.now()\r\n",
      "\u001b[31m-      print(now)\r\n",
      "\u001b[31m-    outputs:\r\n",
      "\u001b[31m-      output 0:\r\n",
      "\u001b[31m-        output_type: stream\r\n",
      "\u001b[31m-        name: stdout\r\n",
      "\u001b[31m-        text:\r\n",
      "\u001b[31m-          2020-05-05 13:36:30.232630\r\n",
      "\r\n",
      "\u001b[0m"
     ]
    }
   ],
   "source": [
    "! git diff"
   ]
  },
  {
   "attachments": {},
   "cell_type": "markdown",
   "metadata": {},
   "source": [
    "... or with the **`git`**`nbdiff` **extension button** (much better), which shows us this:\n",
    "\n",
    "<img src=\"images_nbdime/first_gitnbdiff_buttonclick.png\">\n",
    "\n",
    "Now we're talking! <br>\n",
    "\n",
    "This way, we can **much more easily** see the changes before we commit, just as if we were working on scripts :)"
   ]
  },
  {
   "attachments": {},
   "cell_type": "markdown",
   "metadata": {},
   "source": [
    "You can even click on the button `Export diff`,\n",
    "\n",
    "<img src=\"images_nbdime/export_diff_button.png\">\n",
    "\n",
    "in order to save this diff document as an HTML file for making reports or saving a changelog."
   ]
  },
  {
   "cell_type": "markdown",
   "metadata": {},
   "source": [
    "[*OPTIONAL*] To initialize this notebook extension in the browser every time the notebook (or other app) loads (I do not recommend it, but it doesn't hurt), do:\n",
    "\n",
    "```bash\n",
    "jupyter nbextension enable nbdime --py --sys-prefix\n",
    "```"
   ]
  },
  {
   "cell_type": "markdown",
   "metadata": {},
   "source": [
    "<a id='Merging_notebooks'></a>\n",
    "\n",
    "## Merging notebooks\n",
    "\n",
    "Let's now simulate a conflict between two similar notebooks that we want to merge, to see how we can solve the conflict and merge two notebooks using Git with the unvaluable help of `nbdime`.\n",
    "\n",
    "What we'll do is: <br>\n",
    "0) (I've already done this in my terminal)\n",
    "```bash\n",
    ">>> git:(master) git add build_sample_datasets_from_shows-Copy2.ipynb\n",
    ">>> git:(master) git commit -m \"add plot of minute slope\"\n",
    "```\n",
    "1) Create a new branch, `feature_2`, so that it has a copy of our current code. <br>\n",
    "2) Go to same notebook and reload it (avoid reload-vs-overwrite pop-up). <br>\n",
    "3) Modify a little bit that code, and commit it, so that there will be conflicts when trying to merge into master <br>\n",
    "4) See the diff and solve conflicts <br>"
   ]
  },
  {
   "cell_type": "code",
   "execution_count": 25,
   "metadata": {
    "scrolled": true
   },
   "outputs": [
    {
     "name": "stdout",
     "output_type": "stream",
     "text": [
      "Switched to a new branch 'feature_2'\r\n"
     ]
    }
   ],
   "source": [
    "! git checkout -b feature_2"
   ]
  },
  {
   "attachments": {},
   "cell_type": "markdown",
   "metadata": {},
   "source": [
    "Now we substitute, in this fresh branch, the **minute** by the **hour**, so all things in the notebook change (**code**, **output** print and **plot** change):\n",
    "\n",
    "> before: \n",
    "\n",
    "```python\n",
    "minuto = now.minute\n",
    "y = minuto * x\n",
    "# (...)\n",
    "plt.title(f\"Slope of {minuto}\");\n",
    "```\n",
    "> after:\n",
    "\n",
    "```python \n",
    "# This line is from branch 'feature_2'\n",
    "hora = now.hour\n",
    "y = hora * x\n",
    "# (...)\n",
    "plt.title(f\"Slope of {hora}\");\n",
    "```\n",
    "<br>\n",
    "\n",
    "Save changes, and click the **`git`**`nbdiff` button to see the difference:\n",
    "\n",
    "<img src=\"images_nbdime/gitnbdiff_button_min_hour.png\">"
   ]
  },
  {
   "cell_type": "markdown",
   "metadata": {},
   "source": [
    "Good, now we commit these changes, go back to `master`, and try to merge `feature_2` into `master`."
   ]
  },
  {
   "cell_type": "code",
   "execution_count": 50,
   "metadata": {},
   "outputs": [],
   "source": [
    "! git add build_sample_datasets_from_shows-Copy2.ipynb"
   ]
  },
  {
   "cell_type": "code",
   "execution_count": 51,
   "metadata": {},
   "outputs": [
    {
     "name": "stdout",
     "output_type": "stream",
     "text": [
      "[feature_2 a51fd11] add plot of hour slope\r\n",
      " 1 file changed, 4 insertions(+), 3 deletions(-)\r\n"
     ]
    }
   ],
   "source": [
    "! git commit -m \"add plot of hour slope\""
   ]
  },
  {
   "cell_type": "code",
   "execution_count": 54,
   "metadata": {},
   "outputs": [
    {
     "name": "stdout",
     "output_type": "stream",
     "text": [
      "Switched to branch 'master'\r\n"
     ]
    }
   ],
   "source": [
    "! git checkout master"
   ]
  },
  {
   "cell_type": "markdown",
   "metadata": {},
   "source": [
    "We can compare both branches to see that when the output of a cell has changed, Git interprets it as:\n",
    "\n",
    "- a **deletion** of the **old** output cell \n",
    "\n",
    "plus \n",
    "\n",
    "- an **addition** of the **new** output cell\n",
    "\n",
    "even though the outputs belong to the same code cell.\n",
    "\n",
    "We can see this by doing `git diff` of the 2 branches. <br>\n",
    "The interesting part here (where the **code actually changes**) is the bottom part, with the \n",
    "        \n",
    "    ## modified /cells/4/source:\n",
    "    \n",
    "header:"
   ]
  },
  {
   "cell_type": "code",
   "execution_count": 55,
   "metadata": {},
   "outputs": [
    {
     "name": "stdout",
     "output_type": "stream",
     "text": [
      "nbdiff /tmp/2AKaUg_build_sample_datasets_from_shows-Copy2.ipynb /tmp/k40dQg_build_sample_datasets_from_shows-Copy2.ipynb\r\n",
      "--- /tmp/2AKaUg_build_sample_datasets_from_shows-Copy2.ipynb  2020-05-05 20:32:32.977127\r\n",
      "+++ /tmp/k40dQg_build_sample_datasets_from_shows-Copy2.ipynb  2020-05-05 20:32:32.977127\r\n",
      "\u001b[34m## replaced /cells/4/execution_count:\u001b[0m\r\n",
      "\u001b[31m-  24\r\n",
      "\u001b[32m+  13\r\n",
      "\r\n",
      "\u001b[0m\u001b[34m## inserted before /cells/4/outputs/0:\u001b[0m\r\n",
      "\u001b[32m+  output:\r\n",
      "\u001b[32m+    output_type: stream\r\n",
      "\u001b[32m+    name: stdout\r\n",
      "\u001b[32m+    text:\r\n",
      "\u001b[32m+      2020-05-05 18:37:22.862525\r\n",
      "\u001b[32m+  output:\r\n",
      "\u001b[32m+    output_type: display_data\r\n",
      "\u001b[32m+    data:\r\n",
      "\u001b[32m+      image/png: iVBORw0K...<snip base64, md5=54a542de17dccc0e...>\r\n",
      "\u001b[32m+      text/plain: <Figure size 432x288 with 1 Axes>\r\n",
      "\u001b[32m+    metadata (unknown keys):\r\n",
      "\u001b[32m+      needs_background: light\r\n",
      "\r\n",
      "\u001b[0m\u001b[34m## deleted /cells/4/outputs/0-1:\u001b[0m\r\n",
      "\u001b[31m-  output:\r\n",
      "\u001b[31m-    output_type: stream\r\n",
      "\u001b[31m-    name: stdout\r\n",
      "\u001b[31m-    text:\r\n",
      "\u001b[31m-      2020-05-05 20:21:53.275887\r\n",
      "\u001b[31m-  output:\r\n",
      "\u001b[31m-    output_type: display_data\r\n",
      "\u001b[31m-    data:\r\n",
      "\u001b[31m-      image/png: iVBORw0K...<snip base64, md5=d83b70c22f7bda25...>\r\n",
      "\u001b[31m-      text/plain: <Figure size 432x288 with 1 Axes>\r\n",
      "\u001b[31m-    metadata (unknown keys):\r\n",
      "\u001b[31m-      needs_background: light\r\n",
      "\r\n",
      "\u001b[0m\u001b[34m## modified /cells/4/source:\u001b[0m\r\n",
      "\u001b[36m@@ -6,9 +6,8 @@\u001b[m \u001b[mprint(now)\u001b[m\r\n",
      " import numpy as np\u001b[m\r\n",
      " import matplotlib.pyplot as plt\u001b[m\r\n",
      " \u001b[m\r\n",
      "\u001b[31m-# This line is from branch 'feature_2'\u001b[m\r\n",
      "\u001b[31m-hora = now.hour\u001b[m\r\n",
      "\u001b[32m+\u001b[m\u001b[32mminuto = now.minute\u001b[m\r\n",
      " x = np.arange(100)\u001b[m\r\n",
      "\u001b[31m-y = hora * x\u001b[m\r\n",
      "\u001b[32m+\u001b[m\u001b[32my = minuto * x\u001b[m\r\n",
      " plt.plot(x, y)\u001b[m\r\n",
      "\u001b[31m-plt.title(f\"Slope of {hora}\");\u001b[m\r\n",
      "\u001b[m\r\n",
      "\u001b[32m+\u001b[m\u001b[32mplt.title(f\"Slope of {minuto}\");\u001b[m\r\n",
      "\u001b[m\r\n",
      "\r\n",
      "\u001b[0m"
     ]
    }
   ],
   "source": [
    "! git diff feature_2..master build_sample_datasets_from_shows-Copy2.ipynb"
   ]
  },
  {
   "cell_type": "markdown",
   "metadata": {},
   "source": [
    "<br>\n",
    "Although it's much nicer to see it in the browser:\n",
    "\n",
    "```bash\n",
    ">>>$ nbdiff-web feature_2 master build_sample_datasets_from_shows-Copy2.ipynb\n",
    "[I nbdimeserver:409] Listening on 127.0.0.1, port 41813\n",
    "[I webutil:29] URL: http://127.0.0.1:41813/difftool\n",
    "\n",
    "```\n",
    "\n",
    "<img src=\"images_nbdime/webdiff_feat2_master.png\">\n",
    "\n",
    "<br>\n",
    "\n",
    "As expected:\n",
    "> the code in the **left** branch (`feature_2`), has the *hour* as slope, while \n",
    "\n",
    "> the code in the **right** branch (`master`) has the *minute* as slope."
   ]
  },
  {
   "cell_type": "markdown",
   "metadata": {},
   "source": [
    "Now let's see what happens if we try to merge `feature_2` into `master`. Will there be any **conflicts**?"
   ]
  },
  {
   "cell_type": "code",
   "execution_count": 69,
   "metadata": {},
   "outputs": [
    {
     "name": "stdout",
     "output_type": "stream",
     "text": [
      "  feature_1\u001b[m\r\n",
      "  feature_2\u001b[m\r\n",
      "* \u001b[32mmaster\u001b[m\r\n"
     ]
    }
   ],
   "source": [
    "! git branch"
   ]
  },
  {
   "cell_type": "markdown",
   "metadata": {},
   "source": [
    "We add a dummy comment above the line `minuto = now.minute`, hoping to provoke a conflict:\n",
    "\n",
    "```python\n",
    "# This line is from branch 'master'\n",
    "```\n",
    "and commit this change to master:"
   ]
  },
  {
   "cell_type": "code",
   "execution_count": 63,
   "metadata": {},
   "outputs": [
    {
     "name": "stdout",
     "output_type": "stream",
     "text": [
      "[master ff0cce4] add dummy comment\r\n",
      " 1 file changed, 1 insertion(+)\r\n"
     ]
    }
   ],
   "source": [
    "! git add build_sample_datasets_from_shows-Copy2.ipynb && git commit -m \"add dummy comment\""
   ]
  },
  {
   "cell_type": "markdown",
   "metadata": {},
   "source": [
    "We now observe these differences between `feature_2` and `master`, as expected:\n",
    "\n",
    "```bash\n",
    ">>>$ nbdiff-web feature_2 master build_sample_datasets_from_shows-Copy2.ipynb\n",
    "```\n",
    "\n",
    "<img src=\"images_nbdime/webdiff_b4_merge_conflict.png\">\n",
    "\n",
    "Do not forget to click on `Close tool` when you're done reviewing. In this way, the terminal output ends cleanly.\n",
    "\n",
    "At least in line 9 it looks like there should be a conflict if we try to merge both branches. <br>\n",
    "Let's see."
   ]
  },
  {
   "cell_type": "code",
   "execution_count": 70,
   "metadata": {},
   "outputs": [
    {
     "name": "stdout",
     "output_type": "stream",
     "text": [
      "On branch master\r\n",
      "Untracked files:\r\n",
      "  (use \"git add <file>...\" to include in what will be committed)\r\n",
      "\r\n",
      "\t\u001b[31m20200505_CJU_nbdime-installation-usage.ipynb\u001b[m\r\n",
      "\r\n",
      "nothing added to commit but untracked files present (use \"git add\" to track)\r\n"
     ]
    }
   ],
   "source": [
    "! git status"
   ]
  },
  {
   "cell_type": "markdown",
   "metadata": {},
   "source": [
    "### Attempt to merge:"
   ]
  },
  {
   "cell_type": "code",
   "execution_count": 71,
   "metadata": {},
   "outputs": [
    {
     "name": "stdout",
     "output_type": "stream",
     "text": [
      "[W nbmergeapp:57] Conflicts occured during merge operation.\r\n",
      "[I nbmergeapp:70] Merge result written to .merge_file_lotINe\r\n",
      "Auto-merging build_sample_datasets_from_shows-Copy2.ipynb\r\n",
      "CONFLICT (content): Merge conflict in build_sample_datasets_from_shows-Copy2.ipynb\r\n",
      "Automatic merge failed; fix conflicts and then commit the result.\r\n"
     ]
    }
   ],
   "source": [
    "! git merge feature_2"
   ]
  },
  {
   "attachments": {},
   "cell_type": "markdown",
   "metadata": {},
   "source": [
    "**Oooops!**, there are conflicts!\n",
    "\n",
    "Actually, we *could* resolve them **manually** the traditional way, this is, by going to the \"auto-merged\" file (in this case, *notebook*) where the conflicts are signalled by Git with some strings, by seeing what happened and by editing and then commiting the new fixed file. <br>\n",
    "This is much easier now because the *awesome* added value of `nbdime` in this case is that the \"auto-merged\" file is now a **consistent notebook that can be opened as such**, and not what it used to be when only Git was used: a **corrupted-notebook**, *aka* a JSON.\n",
    "\n",
    "In fact, if we went know to the notebook where these conflicts are found, we would see something like this:\n",
    "\n",
    "<img src=\"images_nbdime/ugly_conflict_highlight.png\">\n",
    "\n",
    "These strings that Git provides us:\n",
    "\n",
    "    <<<<<<< local\n",
    "    >>>>>>> remote\n",
    "    \n",
    "are somewhat helpful, yes. But so are abacuses, and yet we can do much better. <br>"
   ]
  },
  {
   "cell_type": "markdown",
   "metadata": {},
   "source": [
    "<a id='resolve_conflicts'></a>\n",
    "\n",
    "### Resolving conflicts in the web GUI\n",
    "\n",
    "In order to do much better, we can use `nbdime`'s **web-based GUI viewer for merge conflicts**, by simply launching the command\n",
    "\n",
    "```bash\n",
    ">>>$ nbdime mergetool\n",
    "```\n",
    "\n",
    "Output:\n",
    "\n",
    "<img src=\"images_nbdime/terminal_output_mergetool.png\">"
   ]
  },
  {
   "attachments": {},
   "cell_type": "markdown",
   "metadata": {},
   "source": [
    "When we do that, a new tab appears with this appearance for the conflicts of **code**:\n",
    "\n",
    "<img src=\"images_nbdime/code_conflicts_web.png\">"
   ]
  },
  {
   "attachments": {},
   "cell_type": "markdown",
   "metadata": {},
   "source": [
    "<br>\n",
    "\n",
    "And below the code part, we have this part with the conflicts of **output**:\n",
    "\n",
    "<img src=\"images_nbdime/diff_outputs_too.png\">"
   ]
  },
  {
   "attachments": {},
   "cell_type": "markdown",
   "metadata": {},
   "source": [
    "<br>\n",
    "\n",
    "In fact, we can even see the **changes in metadata**, if we click on the triangle of the top blue bar:\n",
    "\n",
    "<img src=\"images_nbdime/metadata_conflicts_web.png\">\n",
    "\n",
    "<br>\n",
    "\n",
    "This may proof useful when dealing with Python versions, IPython versions, or the like."
   ]
  },
  {
   "attachments": {},
   "cell_type": "markdown",
   "metadata": {},
   "source": [
    "As usually, the left and right panels show the code in the different branches, and the **bottom** panel shows what the *result* of the merge would be. Where there are conflicts, the user has to choose code from either the left panel or the right panel, until the middle version has no conflicts.\n",
    "\n",
    "Here we'll say that `master` trumps `feature_2` so that we select as valid the code in the left panel (selecting means clicking on those tiny white arrows at the margins):\n",
    "\n",
    "<img src=\"images_nbdime/conflicts_resolved_web.png\">\n",
    "\n",
    "Now we see that there are no \"red areas\" in the bottom panel, so conflicts solved, and we're safe to go."
   ]
  },
  {
   "attachments": {},
   "cell_type": "markdown",
   "metadata": {},
   "source": [
    "We go to the top of the tool, and click on **Save**:\n",
    "\n",
    "<img src=\"images_nbdime/save_fix_button.png\">"
   ]
  },
  {
   "attachments": {},
   "cell_type": "markdown",
   "metadata": {},
   "source": [
    "We should see a pop-up like this at the left-bottom corner:\n",
    "\n",
    "<img src=\"images_nbdime/green_popup.png\">"
   ]
  },
  {
   "cell_type": "markdown",
   "metadata": {},
   "source": [
    "This means that **we're now good to perform the merge**, and all we need to do for the merge to complete is to **commit this last change** done at the `nbdime`'s web GUI:"
   ]
  },
  {
   "cell_type": "code",
   "execution_count": 74,
   "metadata": {},
   "outputs": [
    {
     "name": "stdout",
     "output_type": "stream",
     "text": [
      "On branch master\r\n",
      "All conflicts fixed but you are still merging.\r\n",
      "  (use \"git commit\" to conclude merge)\r\n",
      "\r\n",
      "Changes to be committed:\r\n",
      "\r\n",
      "\t\u001b[32mmodified:   build_sample_datasets_from_shows-Copy2.ipynb\u001b[m\r\n",
      "\r\n",
      "Untracked files:\r\n",
      "  (use \"git add <file>...\" to include in what will be committed)\r\n",
      "\r\n",
      "\t\u001b[31m20200505_CJU_nbdime-installation-usage.ipynb\u001b[m\r\n",
      "\t\u001b[31mbuild_sample_datasets_from_shows-Copy2.ipynb.orig\u001b[m\r\n",
      "\r\n"
     ]
    }
   ],
   "source": [
    "! git status"
   ]
  },
  {
   "cell_type": "code",
   "execution_count": 76,
   "metadata": {},
   "outputs": [
    {
     "name": "stdout",
     "output_type": "stream",
     "text": [
      "[master 73eb94d] fix conflicts master wins\r\n"
     ]
    }
   ],
   "source": [
    "! git commit -m \"fix conflicts master wins\""
   ]
  },
  {
   "attachments": {},
   "cell_type": "markdown",
   "metadata": {},
   "source": [
    "After the commit, this is how the branches look now:\n",
    "\n",
    "<img src=\"images_nbdime/final_branch_struct.png\">\n",
    "\n",
    "All good! `feature_2` has been merged into `master` and we can keep working :D"
   ]
  },
  {
   "cell_type": "markdown",
   "metadata": {},
   "source": [
    "### Attempt to merge \\#2:\n",
    "\n",
    "And what would happen if you try to open the web GUI again? Let's see:"
   ]
  },
  {
   "cell_type": "code",
   "execution_count": 81,
   "metadata": {},
   "outputs": [
    {
     "name": "stdout",
     "output_type": "stream",
     "text": [
      "No files need merging\r\n"
     ]
    }
   ],
   "source": [
    "! nbdime mergetool"
   ]
  },
  {
   "cell_type": "markdown",
   "metadata": {},
   "source": [
    "We see that nothing happens, since this tool is *only available when some conlicts are detected* when trying a merge operation."
   ]
  },
  {
   "cell_type": "markdown",
   "metadata": {},
   "source": [
    "______________________________\n",
    "#### Side note\n",
    "Actually, the command\n",
    "\n",
    "```bash\n",
    ">$ nbdime mergetool\n",
    "```\n",
    "is an alias for the command \n",
    "\n",
    "    git mergetool --tool nbdime -- *.ipynb\n",
    "    \n",
    "The reason for this is that, even though `nbdime` can handle more file types than just notebooks when merging by using the command\n",
    "\n",
    "    git mergetool --tool nbdime\n",
    "\n",
    "at the end of the day, it will be used just for notebooks, which require the addition of this `*.ipynb` filter on file paths. Since this is quite wordy, it's better to have an alias for it.\n",
    "\n",
    "------------------------------------\n",
    "\n",
    "### The end \n",
    "\n",
    "And this is the end of this practical introduction to `nbdime`. If you are interested in more advanced usages, like the internals of the integratio with Git, configuring the front-end extensions, etc., please read the official documentation.\n",
    "\n",
    "A big applause to the open source community that is working hard to make our lives easier!\n",
    "\n",
    "Happy `diff`ing!"
   ]
  },
  {
   "cell_type": "markdown",
   "metadata": {},
   "source": [
    "<a id='refs'></a>\n",
    "\n",
    "## References\n",
    "\n",
    "* [`nbdime` readthedocs](https://nbdime.readthedocs.io/en/latest/) Phenomenal documentation by library creators.\n",
    "* [JupyterLab Quick Start Guide](https://subscription.packtpub.com/book/data/9781789805543/6/ch06lvl1sec39/working-with-nbdime) Chapter 6. Using JupyterLab with Teams."
   ]
  }
 ],
 "metadata": {
  "kernelspec": {
   "display_name": "Python 3",
   "language": "python",
   "name": "python3"
  },
  "language_info": {
   "codemirror_mode": {
    "name": "ipython",
    "version": 3
   },
   "file_extension": ".py",
   "mimetype": "text/x-python",
   "name": "python",
   "nbconvert_exporter": "python",
   "pygments_lexer": "ipython3",
   "version": "3.7.3"
  }
 },
 "nbformat": 4,
 "nbformat_minor": 2
}
